{
 "cells": [
  {
   "cell_type": "code",
   "execution_count": 1,
   "id": "09474e67",
   "metadata": {},
   "outputs": [],
   "source": [
    "import numpy as np\n",
    "import tensorflow as tf\n",
    "from sklearn import preprocessing\n",
    "from keras import models\n",
    "from keras import layers"
   ]
  },
  {
   "cell_type": "code",
   "execution_count": 2,
   "id": "f965b1c0",
   "metadata": {},
   "outputs": [],
   "source": [
    "(boston_train_data, boston_train_targets), (boston_test_data, boston_test_targets) = tf.keras.datasets.boston_housing.load_data(\n",
    "    path='boston_housing.npz', test_split=0.2, seed=113)"
   ]
  },
  {
   "cell_type": "code",
   "execution_count": 3,
   "id": "e389eeaa",
   "metadata": {},
   "outputs": [],
   "source": [
    "scaled_train_data = preprocessing.scale(boston_train_data)\n",
    "scaled_test_data = preprocessing.scale(boston_test_data)"
   ]
  },
  {
   "cell_type": "code",
   "execution_count": 4,
   "id": "1df7194e",
   "metadata": {},
   "outputs": [
    {
     "name": "stderr",
     "output_type": "stream",
     "text": [
      "2022-01-18 02:36:39.845144: I tensorflow/core/platform/cpu_feature_guard.cc:142] This TensorFlow binary is optimized with oneAPI Deep Neural Network Library (oneDNN) to use the following CPU instructions in performance-critical operations:  SSE4.1 SSE4.2 AVX AVX2 FMA\n",
      "To enable them in other operations, rebuild TensorFlow with the appropriate compiler flags.\n",
      "2022-01-18 02:36:39.846757: I tensorflow/core/common_runtime/process_util.cc:146] Creating new thread pool with default inter op setting: 2. Tune using inter_op_parallelism_threads for best performance.\n"
     ]
    }
   ],
   "source": [
    "input_size = 13\n",
    "output_size = 1\n",
    "hidden_layer_size = 50\n",
    "model = tf.keras.Sequential([\n",
    "    tf.keras.layers.Dense(hidden_layer_size, activation = 'relu'),\n",
    "    tf.keras.layers.Dense(hidden_layer_size, activation = 'relu'),\n",
    "    tf.keras.layers.Dense(output_size, activation ='relu')\n",
    "])\n",
    "model.compile(optimizer='adam', loss='mean_squared_error', metrics = ['mae'])\n"
   ]
  },
  {
   "cell_type": "code",
   "execution_count": 6,
   "id": "5d0851c5",
   "metadata": {},
   "outputs": [
    {
     "name": "stdout",
     "output_type": "stream",
     "text": [
      "processing fold # 0\n",
      "processing fold # 1\n",
      "processing fold # 2\n",
      "processing fold # 3\n",
      "processing fold # 4\n"
     ]
    }
   ],
   "source": [
    "kf = 5\n",
    "\n",
    "num_val_samples = len(boston_train_data) // kf\n",
    "num_epochs = 100\n",
    "all_scores = []\n",
    "\n",
    "for i in range(kf):\n",
    "    \n",
    "    print('processing fold #', i)\n",
    "    val_data = scaled_train_data[i * num_val_samples: (i + 1) * num_val_samples]\n",
    "    val_targets = boston_train_targets[i * num_val_samples: (i + 1) * num_val_samples]\n",
    "    partial_train_data = np.concatenate(\n",
    "    [scaled_train_data[:i * num_val_samples],\n",
    "    scaled_train_data[(i + 1) * num_val_samples:]],\n",
    "    axis=0)\n",
    "    partial_train_targets = np.concatenate(\n",
    "    [boston_train_targets[:i * num_val_samples],\n",
    "    boston_train_targets[(i + 1) * num_val_samples:]],\n",
    "    axis=0)\n",
    "\n",
    "\n",
    "\n",
    "    model.fit(partial_train_data, partial_train_targets,\n",
    "    epochs=num_epochs, batch_size=1, verbose=0)\n",
    "    val_mse, val_mae = model.evaluate(val_data, val_targets, verbose=0)\n",
    "    all_scores.append(val_mae)"
   ]
  },
  {
   "cell_type": "code",
   "execution_count": 7,
   "id": "6f971c5c",
   "metadata": {},
   "outputs": [
    {
     "data": {
      "text/plain": [
       "[1.1221199035644531,\n",
       " 1.164147973060608,\n",
       " 0.9680194854736328,\n",
       " 0.8719687461853027,\n",
       " 0.7279623746871948]"
      ]
     },
     "execution_count": 7,
     "metadata": {},
     "output_type": "execute_result"
    }
   ],
   "source": [
    "all_scores"
   ]
  },
  {
   "cell_type": "code",
   "execution_count": 8,
   "id": "dd6b7944",
   "metadata": {},
   "outputs": [
    {
     "data": {
      "text/plain": [
       "0.9708436965942383"
      ]
     },
     "execution_count": 8,
     "metadata": {},
     "output_type": "execute_result"
    }
   ],
   "source": [
    "np.mean(all_scores)"
   ]
  },
  {
   "cell_type": "code",
   "execution_count": 9,
   "id": "1da57a29",
   "metadata": {},
   "outputs": [
    {
     "name": "stdout",
     "output_type": "stream",
     "text": [
      "4/4 [==============================] - 0s 10ms/step - loss: 14.5754 - mae: 2.6029\n"
     ]
    }
   ],
   "source": [
    "\n",
    "model.fit(scaled_train_data, boston_train_targets,\n",
    "epochs=80, batch_size=16, verbose=0)\n",
    "test_mse_score, test_mae_score = model.evaluate(scaled_test_data, boston_test_targets)"
   ]
  },
  {
   "cell_type": "code",
   "execution_count": null,
   "id": "508108f2",
   "metadata": {},
   "outputs": [],
   "source": []
  }
 ],
 "metadata": {
  "kernelspec": {
   "display_name": "tensorflow-environment",
   "language": "python",
   "name": "tensorflow-environment"
  },
  "language_info": {
   "codemirror_mode": {
    "name": "ipython",
    "version": 3
   },
   "file_extension": ".py",
   "mimetype": "text/x-python",
   "name": "python",
   "nbconvert_exporter": "python",
   "pygments_lexer": "ipython3",
   "version": "3.9.7"
  }
 },
 "nbformat": 4,
 "nbformat_minor": 5
}
